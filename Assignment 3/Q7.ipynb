{
  "nbformat": 4,
  "nbformat_minor": 0,
  "metadata": {
    "colab": {
      "name": "Q7.ipynb",
      "provenance": [],
      "collapsed_sections": [],
      "toc_visible": true
    },
    "kernelspec": {
      "name": "python3",
      "display_name": "Python 3"
    },
    "language_info": {
      "name": "python"
    }
  },
  "cells": [
    {
      "cell_type": "markdown",
      "metadata": {
        "id": "32yM3siNsnFj"
      },
      "source": [
        "### Micheal Jordon vs JK Rowling Classification\n",
        "### Colab Link : https://colab.research.google.com/drive/1xAGXWlhx7ZrgHKgvS05arURF70BbhxXf?usp=sharing"
      ]
    },
    {
      "cell_type": "code",
      "metadata": {
        "id": "EKTabzCMQ_rj"
      },
      "source": [
        "\"\"\"\n",
        "Keras Image Generator is used in this notebook.\n",
        "The API requires the data to be in specific structure.\n",
        "-data\n",
        " |-train\n",
        "   |-- class1\n",
        "   |-- class2\n",
        " |-test\n",
        "   |-- class1\n",
        "   |-- class2\n",
        "\"\"\"\n",
        "!mkdir \"/content/data\"\n",
        "!mkdir \"/content/data/train\"\n",
        "!mkdir \"/content/data/test\"\n",
        "!mkdir \"/content/data/train/mj\"\n",
        "!mkdir \"/content/data/train/jk\"\n",
        "!mkdir \"/content/data/test/mj\"\n",
        "!mkdir \"/content/data/test/jk\""
      ],
      "execution_count": 1,
      "outputs": []
    },
    {
      "cell_type": "code",
      "metadata": {
        "id": "yljn77cbcYNz"
      },
      "source": [
        "import sys\n",
        "import os\n",
        "import tensorflow as tf\n",
        "import matplotlib.pyplot as plt\n",
        "import random\n",
        "import shutil\n",
        "from tensorflow import keras\n",
        "from keras.applications.vgg16 import VGG16\n",
        "from keras.utils import to_categorical\n",
        "from keras.models import Sequential\n",
        "from keras.layers import Conv2D\n",
        "from keras.models import Model\n",
        "from keras.layers import MaxPooling2D\n",
        "from keras.layers import Dense\n",
        "from keras.layers import Flatten\n",
        "from keras.preprocessing.image import ImageDataGenerator"
      ],
      "execution_count": 2,
      "outputs": []
    },
    {
      "cell_type": "code",
      "metadata": {
        "id": "HBGsjaj_4ejp"
      },
      "source": [
        "# Before running this cell images must be manually uploaded in the session storage\n",
        "\n",
        "\"\"\"\n",
        "This cell creates the test-train split and put the images in the respective directories. (Refer cell 1)\n",
        "\"\"\"\n",
        "\n",
        "src_dir = \"/content/\"\n",
        "dest_dir_train_mj = \"/content/data/train/mj/\"\n",
        "dest_dir_train_jk = \"/content/data/train/jk/\"\n",
        "dest_dir_test_mj = \"/content/data/test/mj/\"\n",
        "dest_dir_test_jk = \"/content/data/test/jk/\"\n",
        "\n",
        "cnt1 = 0\n",
        "cnt2 = 0\n",
        "\n",
        "files = os.listdir(src_dir)\n",
        "random.shuffle(files)\n",
        "\n",
        "for count, filename in enumerate(files):\n",
        "  if filename.find(\".jpeg\") != -1:\n",
        "    src = src_dir + filename\n",
        "    if filename.find(\"mj\") != -1:\n",
        "      if cnt1 > 29:\n",
        "        # 10 images in test of this class\n",
        "        des = dest_dir_test_mj + filename\n",
        "      else:\n",
        "        # 30 images in train of this class\n",
        "        des = dest_dir_train_mj + filename\n",
        "      cnt1 += 1\n",
        "    else:\n",
        "      if cnt2 > 29:\n",
        "        # 10 images in test of this class\n",
        "        des = dest_dir_test_jk + filename\n",
        "      else:\n",
        "        # 30 images in train of this class\n",
        "        des = dest_dir_train_jk + filename\n",
        "      cnt2 += 1\n",
        "    dest = shutil.move(src, des)"
      ],
      "execution_count": 3,
      "outputs": []
    },
    {
      "cell_type": "code",
      "metadata": {
        "colab": {
          "base_uri": "https://localhost:8080/"
        },
        "id": "rKOyVx9YJQtB",
        "outputId": "f9337b01-0470-4234-bc25-fd9e101aef5f"
      },
      "source": [
        "datagen = ImageDataGenerator(rescale=1.0/255.0) # Normalising pixels to [0-1]\n",
        "\n",
        "# Test and Train Generators with batch_size 10.\n",
        "train_it = datagen.flow_from_directory('/content/data/train/',\n",
        "\tclass_mode='binary', batch_size = 10, target_size=(224, 224))\n",
        "test_it = datagen.flow_from_directory('/content/data/test/',\n",
        "\tclass_mode='binary', batch_size = 10, target_size=(224, 224))"
      ],
      "execution_count": 4,
      "outputs": [
        {
          "output_type": "stream",
          "text": [
            "Found 60 images belonging to 2 classes.\n",
            "Found 20 images belonging to 2 classes.\n"
          ],
          "name": "stdout"
        }
      ]
    },
    {
      "cell_type": "code",
      "metadata": {
        "id": "R188HD6cbeB1"
      },
      "source": [
        "def VGG1():\n",
        "  \"\"\"\n",
        "  Returns VGG1 model\n",
        "  \"\"\"\n",
        "  model = Sequential()\n",
        "  # One VGG Block\n",
        "  model.add(Conv2D(32, (3, 3), activation='relu', kernel_initializer='he_uniform', padding='same', input_shape=(224, 224, 3)))\n",
        "  model.add(MaxPooling2D((2, 2)))\n",
        "\n",
        "  # Two Dense Layers\n",
        "  model.add(Flatten())\n",
        "  model.add(Dense(128, activation='relu', kernel_initializer='he_uniform'))\n",
        "  model.add(Dense(1, activation='sigmoid'))\n",
        "\n",
        "  model.compile(optimizer = \"adam\", loss='binary_crossentropy', metrics=['accuracy'])\n",
        "  return model"
      ],
      "execution_count": 5,
      "outputs": []
    },
    {
      "cell_type": "code",
      "metadata": {
        "id": "XhDDt9jxcM-J"
      },
      "source": [
        "def transfer_learning():\n",
        "  \"\"\"\n",
        "  Returns VGG16 pretained + extra layers model\n",
        "  \"\"\"\n",
        "  # Pre-trained VGG16\n",
        "  model = VGG16(include_top=False, input_shape=(224, 224, 3))\n",
        "  for layer in model.layers:\n",
        "    layer.trainable = False\n",
        "\n",
        "  # Two Dense Layers\n",
        "  flat1 = Flatten()(model.layers[-1].output)\n",
        "  class1 = Dense(128, activation='relu', kernel_initializer='he_uniform')(flat1)\n",
        "  output = Dense(1, activation='sigmoid')(class1)\n",
        "\n",
        "  model = Model(inputs=model.inputs, outputs=output)\n",
        "  model.compile(optimizer = \"adam\", loss='binary_crossentropy', metrics=['accuracy'])\n",
        "  return model"
      ],
      "execution_count": 6,
      "outputs": []
    },
    {
      "cell_type": "code",
      "metadata": {
        "id": "7wVvNJyhTHPt"
      },
      "source": [
        "def summarize_diagnostics(history):\n",
        "  \"\"\"\n",
        "  Parameters :\n",
        "\n",
        "  > history : Returned from model.fit(). History of loss and accuracy from model.fit() APU call.\n",
        "\n",
        "  Plots loss vs epochs and accuracy vs epochs\n",
        "  \"\"\"\n",
        "  plt.subplot(211)\n",
        "  plt.title('Cross Entropy Loss')\n",
        "  plt.plot(history.history['loss'], color='blue', label='train')\n",
        "  plt.plot(history.history['val_loss'], color='orange', label='test')\n",
        "  plt.subplot(212)\n",
        "  plt.title('Classification Accuracy')\n",
        "  plt.plot(history.history['accuracy'], color='blue', label='train')\n",
        "  plt.plot(history.history['val_accuracy'], color='orange', label='test')\n",
        "  plt.show()"
      ],
      "execution_count": 7,
      "outputs": []
    },
    {
      "cell_type": "code",
      "metadata": {
        "colab": {
          "base_uri": "https://localhost:8080/",
          "height": 1000
        },
        "id": "AKix8AbLKDrs",
        "outputId": "c26370f3-0c3d-497f-fe19-7003c78eef08"
      },
      "source": [
        "model = VGG1()\n",
        "history = model.fit(train_it, steps_per_epoch=len(train_it),validation_data=test_it, validation_steps=len(test_it), epochs=20)\n",
        "summarize_diagnostics(history)"
      ],
      "execution_count": 8,
      "outputs": [
        {
          "output_type": "stream",
          "text": [
            "Epoch 1/20\n",
            "6/6 [==============================] - 7s 974ms/step - loss: 55.8173 - accuracy: 0.4417 - val_loss: 55.3986 - val_accuracy: 0.5000\n",
            "Epoch 2/20\n",
            "6/6 [==============================] - 5s 839ms/step - loss: 28.4066 - accuracy: 0.5745 - val_loss: 7.7825 - val_accuracy: 0.5000\n",
            "Epoch 3/20\n",
            "6/6 [==============================] - 5s 809ms/step - loss: 3.0027 - accuracy: 0.5967 - val_loss: 2.0558 - val_accuracy: 0.5000\n",
            "Epoch 4/20\n",
            "6/6 [==============================] - 5s 829ms/step - loss: 2.0905 - accuracy: 0.6717 - val_loss: 5.9610 - val_accuracy: 0.6000\n",
            "Epoch 5/20\n",
            "6/6 [==============================] - 5s 795ms/step - loss: 2.4738 - accuracy: 0.7417 - val_loss: 4.1304 - val_accuracy: 0.5500\n",
            "Epoch 6/20\n",
            "6/6 [==============================] - 5s 814ms/step - loss: 0.7425 - accuracy: 0.8481 - val_loss: 1.7776 - val_accuracy: 0.7000\n",
            "Epoch 7/20\n",
            "6/6 [==============================] - 5s 826ms/step - loss: 0.0385 - accuracy: 0.9840 - val_loss: 3.4707 - val_accuracy: 0.5500\n",
            "Epoch 8/20\n",
            "6/6 [==============================] - 5s 804ms/step - loss: 0.0047 - accuracy: 1.0000 - val_loss: 1.6142 - val_accuracy: 0.7000\n",
            "Epoch 9/20\n",
            "6/6 [==============================] - 5s 809ms/step - loss: 9.3153e-04 - accuracy: 1.0000 - val_loss: 2.1547 - val_accuracy: 0.7500\n",
            "Epoch 10/20\n",
            "6/6 [==============================] - 5s 822ms/step - loss: 2.5334e-04 - accuracy: 1.0000 - val_loss: 2.0476 - val_accuracy: 0.8000\n",
            "Epoch 11/20\n",
            "6/6 [==============================] - 5s 840ms/step - loss: 4.6759e-05 - accuracy: 1.0000 - val_loss: 1.9958 - val_accuracy: 0.8000\n",
            "Epoch 12/20\n",
            "6/6 [==============================] - 5s 829ms/step - loss: 5.0917e-05 - accuracy: 1.0000 - val_loss: 1.9658 - val_accuracy: 0.8000\n",
            "Epoch 13/20\n",
            "6/6 [==============================] - 5s 822ms/step - loss: 5.4294e-05 - accuracy: 1.0000 - val_loss: 1.9475 - val_accuracy: 0.8000\n",
            "Epoch 14/20\n",
            "6/6 [==============================] - 5s 835ms/step - loss: 3.0915e-05 - accuracy: 1.0000 - val_loss: 1.9355 - val_accuracy: 0.8000\n",
            "Epoch 15/20\n",
            "6/6 [==============================] - 5s 810ms/step - loss: 6.0308e-05 - accuracy: 1.0000 - val_loss: 1.9266 - val_accuracy: 0.8000\n",
            "Epoch 16/20\n",
            "6/6 [==============================] - 5s 809ms/step - loss: 3.1644e-05 - accuracy: 1.0000 - val_loss: 1.9204 - val_accuracy: 0.8000\n",
            "Epoch 17/20\n",
            "6/6 [==============================] - 5s 847ms/step - loss: 2.2934e-05 - accuracy: 1.0000 - val_loss: 1.9157 - val_accuracy: 0.8000\n",
            "Epoch 18/20\n",
            "6/6 [==============================] - 5s 799ms/step - loss: 2.7821e-05 - accuracy: 1.0000 - val_loss: 1.9113 - val_accuracy: 0.8000\n",
            "Epoch 19/20\n",
            "6/6 [==============================] - 5s 828ms/step - loss: 2.5541e-05 - accuracy: 1.0000 - val_loss: 1.9083 - val_accuracy: 0.8000\n",
            "Epoch 20/20\n",
            "6/6 [==============================] - 5s 831ms/step - loss: 2.1557e-05 - accuracy: 1.0000 - val_loss: 1.9046 - val_accuracy: 0.8000\n"
          ],
          "name": "stdout"
        },
        {
          "output_type": "display_data",
          "data": {
            "image/png": "[encoded data removed]",
            "text/plain": [
              "<Figure size 432x288 with 2 Axes>"
            ]
          },
          "metadata": {
            "tags": [],
            "needs_background": "light"
          }
        }
      ]
    },
    {
      "cell_type": "code",
      "metadata": {
        "colab": {
          "base_uri": "https://localhost:8080/",
          "height": 1000
        },
        "id": "QBuHYy-xowQ2",
        "outputId": "5c44d87c-72ac-4447-dfc8-d863d69e2eee"
      },
      "source": [
        "train_datagen1 = ImageDataGenerator(rescale=1.0/255.0,width_shift_range=0.1, height_shift_range=0.1, horizontal_flip=True)\n",
        "test_datagen1 = ImageDataGenerator(rescale=1.0/255.0)\n",
        "train_it1 = train_datagen1.flow_from_directory('/content/data/train/',class_mode='binary', batch_size = 10, target_size=(224, 224))\n",
        "test_it1 = test_datagen1.flow_from_directory('/content/data/test/',class_mode='binary', batch_size = 10, target_size=(224, 224))\n",
        "model = VGG1()\n",
        "history = model.fit(train_it1, steps_per_epoch=len(train_it1),validation_data=test_it1, validation_steps=len(test_it1), epochs=20)\n",
        "summarize_diagnostics(history)"
      ],
      "execution_count": 9,
      "outputs": [
        {
          "output_type": "stream",
          "text": [
            "Found 60 images belonging to 2 classes.\n",
            "Found 20 images belonging to 2 classes.\n",
            "Epoch 1/20\n",
            "6/6 [==============================] - 7s 1s/step - loss: 54.8662 - accuracy: 0.3421 - val_loss: 46.3003 - val_accuracy: 0.5000\n",
            "Epoch 2/20\n",
            "6/6 [==============================] - 6s 898ms/step - loss: 41.1902 - accuracy: 0.5636 - val_loss: 10.0633 - val_accuracy: 0.5000\n",
            "Epoch 3/20\n",
            "6/6 [==============================] - 6s 900ms/step - loss: 26.5654 - accuracy: 0.3667 - val_loss: 10.7039 - val_accuracy: 0.5500\n",
            "Epoch 4/20\n",
            "6/6 [==============================] - 6s 912ms/step - loss: 8.4163 - accuracy: 0.6721 - val_loss: 6.9599 - val_accuracy: 0.6000\n",
            "Epoch 5/20\n",
            "6/6 [==============================] - 5s 871ms/step - loss: 9.7528 - accuracy: 0.6088 - val_loss: 3.1765 - val_accuracy: 0.7500\n",
            "Epoch 6/20\n",
            "6/6 [==============================] - 6s 867ms/step - loss: 3.1511 - accuracy: 0.7576 - val_loss: 5.6757 - val_accuracy: 0.7500\n",
            "Epoch 7/20\n",
            "6/6 [==============================] - 5s 894ms/step - loss: 4.1515 - accuracy: 0.6836 - val_loss: 5.9753 - val_accuracy: 0.7000\n",
            "Epoch 8/20\n",
            "6/6 [==============================] - 6s 938ms/step - loss: 4.4084 - accuracy: 0.7324 - val_loss: 7.4306 - val_accuracy: 0.8000\n",
            "Epoch 9/20\n",
            "6/6 [==============================] - 6s 906ms/step - loss: 6.3917 - accuracy: 0.6619 - val_loss: 4.5282 - val_accuracy: 0.7000\n",
            "Epoch 10/20\n",
            "6/6 [==============================] - 6s 889ms/step - loss: 1.2874 - accuracy: 0.8343 - val_loss: 4.5531 - val_accuracy: 0.8000\n",
            "Epoch 11/20\n",
            "6/6 [==============================] - 6s 892ms/step - loss: 0.7453 - accuracy: 0.9210 - val_loss: 6.3525 - val_accuracy: 0.7500\n",
            "Epoch 12/20\n",
            "6/6 [==============================] - 6s 897ms/step - loss: 3.3487 - accuracy: 0.7993 - val_loss: 5.0828 - val_accuracy: 0.7500\n",
            "Epoch 13/20\n",
            "6/6 [==============================] - 6s 913ms/step - loss: 1.9471 - accuracy: 0.8076 - val_loss: 4.8254 - val_accuracy: 0.7500\n",
            "Epoch 14/20\n",
            "6/6 [==============================] - 5s 862ms/step - loss: 1.8565 - accuracy: 0.8414 - val_loss: 4.0284 - val_accuracy: 0.7000\n",
            "Epoch 15/20\n",
            "6/6 [==============================] - 6s 903ms/step - loss: 0.2607 - accuracy: 0.9486 - val_loss: 3.5260 - val_accuracy: 0.7500\n",
            "Epoch 16/20\n",
            "6/6 [==============================] - 5s 850ms/step - loss: 0.5600 - accuracy: 0.9219 - val_loss: 3.6112 - val_accuracy: 0.8000\n",
            "Epoch 17/20\n",
            "6/6 [==============================] - 5s 885ms/step - loss: 1.2711 - accuracy: 0.8652 - val_loss: 2.9212 - val_accuracy: 0.8000\n",
            "Epoch 18/20\n",
            "6/6 [==============================] - 5s 855ms/step - loss: 0.7340 - accuracy: 0.9238 - val_loss: 3.7574 - val_accuracy: 0.7000\n",
            "Epoch 19/20\n",
            "6/6 [==============================] - 5s 877ms/step - loss: 1.2320 - accuracy: 0.8524 - val_loss: 7.9957 - val_accuracy: 0.7500\n",
            "Epoch 20/20\n",
            "6/6 [==============================] - 5s 878ms/step - loss: 3.9912 - accuracy: 0.7583 - val_loss: 8.9815 - val_accuracy: 0.7500\n"
          ],
          "name": "stdout"
        },
        {
          "output_type": "display_data",
          "data": {
            "image/png": "[encoded data removed]",
            "text/plain": [
              "<Figure size 432x288 with 2 Axes>"
            ]
          },
          "metadata": {
            "tags": [],
            "needs_background": "light"
          }
        }
      ]
    },
    {
      "cell_type": "code",
      "metadata": {
        "colab": {
          "base_uri": "https://localhost:8080/",
          "height": 1000
        },
        "id": "Pnq9noERNk3V",
        "outputId": "38b7cc7a-f7ca-46da-c883-f0eb499b2b65"
      },
      "source": [
        "model = transfer_learning()\n",
        "history = model.fit(train_it, steps_per_epoch=len(train_it),validation_data=test_it, validation_steps=len(test_it), epochs=20)\n",
        "summarize_diagnostics(history)"
      ],
      "execution_count": 10,
      "outputs": [
        {
          "output_type": "stream",
          "text": [
            "Downloading data from https://storage.googleapis.com/tensorflow/keras-applications/vgg16/vgg16_weights_tf_dim_ordering_tf_kernels_notop.h5\n",
            "58892288/58889256 [==============================] - 0s 0us/step\n",
            "Epoch 1/20\n",
            "6/6 [==============================] - 25s 4s/step - loss: 2.8538 - accuracy: 0.4690 - val_loss: 0.7305 - val_accuracy: 0.5000\n",
            "Epoch 2/20\n",
            "6/6 [==============================] - 24s 4s/step - loss: 0.5054 - accuracy: 0.7631 - val_loss: 0.5845 - val_accuracy: 0.6000\n",
            "Epoch 3/20\n",
            "6/6 [==============================] - 24s 4s/step - loss: 0.2958 - accuracy: 0.8821 - val_loss: 0.3728 - val_accuracy: 0.9000\n",
            "Epoch 4/20\n",
            "6/6 [==============================] - 24s 4s/step - loss: 0.1148 - accuracy: 1.0000 - val_loss: 0.2919 - val_accuracy: 0.9000\n",
            "Epoch 5/20\n",
            "6/6 [==============================] - 24s 4s/step - loss: 0.0416 - accuracy: 1.0000 - val_loss: 0.2572 - val_accuracy: 0.9500\n",
            "Epoch 6/20\n",
            "6/6 [==============================] - 24s 4s/step - loss: 0.0198 - accuracy: 1.0000 - val_loss: 0.2183 - val_accuracy: 0.9000\n",
            "Epoch 7/20\n",
            "6/6 [==============================] - 24s 4s/step - loss: 0.0058 - accuracy: 1.0000 - val_loss: 0.2305 - val_accuracy: 0.9500\n",
            "Epoch 8/20\n",
            "6/6 [==============================] - 24s 4s/step - loss: 0.0053 - accuracy: 1.0000 - val_loss: 0.2098 - val_accuracy: 0.9500\n",
            "Epoch 9/20\n",
            "6/6 [==============================] - 24s 4s/step - loss: 0.0018 - accuracy: 1.0000 - val_loss: 0.2008 - val_accuracy: 0.9500\n",
            "Epoch 10/20\n",
            "6/6 [==============================] - 24s 4s/step - loss: 0.0012 - accuracy: 1.0000 - val_loss: 0.1998 - val_accuracy: 0.9500\n",
            "Epoch 11/20\n",
            "6/6 [==============================] - 24s 4s/step - loss: 0.0011 - accuracy: 1.0000 - val_loss: 0.2040 - val_accuracy: 0.9500\n",
            "Epoch 12/20\n",
            "6/6 [==============================] - 24s 4s/step - loss: 7.6491e-04 - accuracy: 1.0000 - val_loss: 0.2086 - val_accuracy: 0.9500\n",
            "Epoch 13/20\n",
            "6/6 [==============================] - 24s 4s/step - loss: 8.0544e-04 - accuracy: 1.0000 - val_loss: 0.2137 - val_accuracy: 0.9500\n",
            "Epoch 14/20\n",
            "6/6 [==============================] - 24s 4s/step - loss: 5.7309e-04 - accuracy: 1.0000 - val_loss: 0.2123 - val_accuracy: 0.9500\n",
            "Epoch 15/20\n",
            "6/6 [==============================] - 24s 4s/step - loss: 4.9635e-04 - accuracy: 1.0000 - val_loss: 0.2097 - val_accuracy: 0.9500\n",
            "Epoch 16/20\n",
            "6/6 [==============================] - 24s 4s/step - loss: 5.1603e-04 - accuracy: 1.0000 - val_loss: 0.2080 - val_accuracy: 0.9500\n",
            "Epoch 17/20\n",
            "6/6 [==============================] - 24s 4s/step - loss: 4.4690e-04 - accuracy: 1.0000 - val_loss: 0.2075 - val_accuracy: 0.9500\n",
            "Epoch 18/20\n",
            "6/6 [==============================] - 24s 4s/step - loss: 3.9582e-04 - accuracy: 1.0000 - val_loss: 0.2080 - val_accuracy: 0.9500\n",
            "Epoch 19/20\n",
            "6/6 [==============================] - 24s 4s/step - loss: 3.7153e-04 - accuracy: 1.0000 - val_loss: 0.2081 - val_accuracy: 0.9500\n",
            "Epoch 20/20\n",
            "6/6 [==============================] - 24s 4s/step - loss: 3.5540e-04 - accuracy: 1.0000 - val_loss: 0.2087 - val_accuracy: 0.9500\n"
          ],
          "name": "stdout"
        },
        {
          "output_type": "display_data",
          "data": {
            "image/png": "[encoded data removed]",
            "text/plain": [
              "<Figure size 432x288 with 2 Axes>"
            ]
          },
          "metadata": {
            "tags": [],
            "needs_background": "light"
          }
        }
      ]
    }
  ]
}